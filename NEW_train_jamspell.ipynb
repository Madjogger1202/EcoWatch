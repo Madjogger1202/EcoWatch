{
  "cells": [
    {
      "cell_type": "markdown",
      "metadata": {
        "id": "view-in-github",
        "colab_type": "text"
      },
      "source": [
        "<a href=\"https://colab.research.google.com/github/Madjogger1202/EcoWatch/blob/main/NEW_train_jamspell.ipynb\" target=\"_parent\"><img src=\"https://colab.research.google.com/assets/colab-badge.svg\" alt=\"Open In Colab\"/></a>"
      ]
    },
    {
      "cell_type": "markdown",
      "metadata": {
        "id": "3mgDRgErKnD6"
      },
      "source": [
        "# Training model"
      ]
    },
    {
      "cell_type": "markdown",
      "source": [
        "##Download text dataset and source code"
      ],
      "metadata": {
        "id": "dNtOR-q5GrFV"
      }
    },
    {
      "cell_type": "code",
      "execution_count": null,
      "metadata": {
        "id": "IiXqvvvYilSJ"
      },
      "outputs": [],
      "source": [
        "!git clone https://huggingface.co/datasets/Madjogger/JamSpell_dataset"
      ]
    },
    {
      "cell_type": "code",
      "execution_count": 2,
      "metadata": {
        "colab": {
          "base_uri": "https://localhost:8080/"
        },
        "id": "MNlAr0chMoRo",
        "outputId": "864f5440-02fb-46f8-d149-7be97f1ea9b6"
      },
      "outputs": [
        {
          "output_type": "stream",
          "name": "stdout",
          "text": [
            "Cloning into 'JamSpell'...\n",
            "remote: Enumerating objects: 1200, done.\u001b[K\n",
            "remote: Counting objects: 100% (178/178), done.\u001b[K\n",
            "remote: Compressing objects: 100% (137/137), done.\u001b[K\n",
            "remote: Total 1200 (delta 82), reused 47 (delta 19), pack-reused 1022\u001b[K\n",
            "Receiving objects: 100% (1200/1200), 712.91 KiB | 13.71 MiB/s, done.\n",
            "Resolving deltas: 100% (723/723), done.\n"
          ]
        }
      ],
      "source": [
        "!git clone https://github.com/Madjogger1202/JamSpell.git"
      ]
    },
    {
      "cell_type": "markdown",
      "source": [
        "##Build jamspell"
      ],
      "metadata": {
        "id": "qwFXCNmdHADc"
      }
    },
    {
      "cell_type": "code",
      "source": [
        "!cd JamSpell\n",
        "!cmake /content/JamSpell/CMakeLists.txt\n",
        "!make"
      ],
      "metadata": {
        "colab": {
          "base_uri": "https://localhost:8080/"
        },
        "id": "cMY1EgO3HD_E",
        "outputId": "57808eb3-8d29-4873-ce7e-5d1f03ed7dbd"
      },
      "execution_count": 3,
      "outputs": [
        {
          "output_type": "stream",
          "name": "stdout",
          "text": [
            "-- The C compiler identification is GNU 11.4.0\n",
            "-- The CXX compiler identification is GNU 11.4.0\n",
            "-- Detecting C compiler ABI info\n",
            "-- Detecting C compiler ABI info - done\n",
            "-- Check for working C compiler: /usr/bin/cc - skipped\n",
            "-- Detecting C compile features\n",
            "-- Detecting C compile features - done\n",
            "-- Detecting CXX compiler ABI info\n",
            "-- Detecting CXX compiler ABI info - done\n",
            "-- Check for working CXX compiler: /usr/bin/c++ - skipped\n",
            "-- Detecting CXX compile features\n",
            "-- Detecting CXX compile features - done\n",
            "-- Could NOT find GTest (missing: GTEST_LIBRARY GTEST_INCLUDE_DIR GTEST_MAIN_LIBRARY) \n",
            "-- Performing Test CMAKE_HAVE_LIBC_PTHREAD\n",
            "-- Performing Test CMAKE_HAVE_LIBC_PTHREAD - Success\n",
            "-- Found Threads: TRUE  \n",
            "-- Configuring done (1.1s)\n",
            "-- Generating done (0.0s)\n",
            "-- Build files have been written to: /content\n",
            "[  4%] \u001b[32mBuilding CXX object contrib/cityhash/CMakeFiles/cityhash.dir/city.cc.o\u001b[0m\n",
            "[  8%] \u001b[32m\u001b[1mLinking CXX static library libcityhash.a\u001b[0m\n",
            "[  8%] Built target cityhash\n",
            "[ 12%] \u001b[32mBuilding CXX object contrib/phf/CMakeFiles/phf.dir/phf.cc.o\u001b[0m\n",
            "[ 16%] \u001b[32m\u001b[1mLinking CXX static library libphf.a\u001b[0m\n",
            "[ 16%] Built target phf\n",
            "[ 20%] \u001b[32mBuilding CXX object jamspell/CMakeFiles/jamspell_lib.dir/spell_corrector.cpp.o\u001b[0m\n",
            "[ 25%] \u001b[32mBuilding CXX object jamspell/CMakeFiles/jamspell_lib.dir/lang_model.cpp.o\u001b[0m\n",
            "[ 29%] \u001b[32mBuilding CXX object jamspell/CMakeFiles/jamspell_lib.dir/utils.cpp.o\u001b[0m\n",
            "[ 33%] \u001b[32mBuilding CXX object jamspell/CMakeFiles/jamspell_lib.dir/perfect_hash.cpp.o\u001b[0m\n",
            "[ 37%] \u001b[32mBuilding CXX object jamspell/CMakeFiles/jamspell_lib.dir/bloom_filter.cpp.o\u001b[0m\n",
            "[ 41%] \u001b[32m\u001b[1mLinking CXX static library libjamspell_lib.a\u001b[0m\n",
            "[ 41%] Built target jamspell_lib\n",
            "[ 45%] \u001b[32mBuilding CXX object main/CMakeFiles/jamspell.dir/main.cpp.o\u001b[0m\n",
            "[ 50%] \u001b[32m\u001b[1mLinking CXX executable jamspell\u001b[0m\n",
            "[ 50%] Built target jamspell\n",
            "[ 54%] \u001b[32mBuilding CXX object contrib/handypack/CMakeFiles/handypack.dir/handypack.cpp.o\u001b[0m\n",
            "[ 58%] \u001b[32m\u001b[1mLinking CXX static library libhandypack.a\u001b[0m\n",
            "[ 58%] Built target handypack\n",
            "[ 62%] \u001b[32mBuilding CXX object contrib/bloom/CMakeFiles/bloom.dir/bloom_filter.cpp.o\u001b[0m\n",
            "[ 66%] \u001b[32m\u001b[1mLinking CXX static library libbloom.a\u001b[0m\n",
            "[ 66%] Built target bloom\n",
            "[ 70%] \u001b[32mBuilding CXX object contrib/tsl/CMakeFiles/tsl.dir/robin_map.cpp.o\u001b[0m\n",
            "[ 75%] \u001b[32m\u001b[1mLinking CXX static library libtsl.a\u001b[0m\n",
            "[ 75%] Built target tsl\n",
            "[ 79%] \u001b[32mBuilding CXX object contrib/httplib/CMakeFiles/httplib.dir/httplib.cpp.o\u001b[0m\n",
            "[ 83%] \u001b[32m\u001b[1mLinking CXX static library libhttplib.a\u001b[0m\n",
            "[ 83%] Built target httplib\n",
            "[ 87%] \u001b[32mBuilding CXX object contrib/nlohmann/CMakeFiles/nlohmann_json.dir/json.cpp.o\u001b[0m\n",
            "[ 91%] \u001b[32m\u001b[1mLinking CXX static library libnlohmann_json.a\u001b[0m\n",
            "[ 91%] Built target nlohmann_json\n",
            "[ 95%] \u001b[32mBuilding CXX object web_server/CMakeFiles/web_server.dir/main.cpp.o\u001b[0m\n",
            "[100%] \u001b[32m\u001b[1mLinking CXX executable web_server\u001b[0m\n",
            "[100%] Built target web_server\n"
          ]
        }
      ]
    },
    {
      "cell_type": "markdown",
      "source": [
        "##Train model - check folders for alphabet and dataset\n",
        "6 languages supported now, but you can create your own:\n",
        "\n",
        "1.Download or parse from somewhere data on your language (books, web sites, wikipedia). Useful resource: https://wortschatz.uni-leipzig.de/en/download (data for many languages), from here you can use files, named sentences\n",
        "\n",
        "2.Create txt with alphabet symbols and (optionally) extra symbol to deal with errors"
      ],
      "metadata": {
        "id": "Ftsd8wWFHFn1"
      }
    },
    {
      "cell_type": "code",
      "execution_count": 4,
      "metadata": {
        "colab": {
          "base_uri": "https://localhost:8080/"
        },
        "id": "QI_joJGCOHRw",
        "outputId": "a4f53480-11c1-4c0e-b51e-a1d5b374aa02"
      },
      "outputs": [
        {
          "output_type": "stream",
          "name": "stdout",
          "text": [
            "[info] loading text\n",
            "[info] generating N-grams 3303778\n",
            "[info] processed 3.90992%\n",
            "[info] processed 8.01827%\n",
            "[info] processed 11.5307%\n",
            "[info] processed 15.9245%\n",
            "[info] processed 19.3134%\n",
            "[info] processed 23.0437%\n",
            "[info] processed 26.562%\n",
            "[info] processed 31.1124%\n",
            "[info] processed 34.938%\n",
            "[info] processed 39.1535%\n",
            "[info] processed 40.9671%\n",
            "[info] processed 44.9287%\n",
            "[info] processed 48.7293%\n",
            "[info] processed 52.8333%\n",
            "[info] processed 56.5897%\n",
            "[info] processed 59.2908%\n",
            "[info] processed 62.9202%\n",
            "[info] processed 66.3844%\n",
            "[info] processed 69.8103%\n",
            "[info] processed 73.0434%\n",
            "[info] processed 76.4221%\n",
            "[info] processed 79.9587%\n",
            "[info] processed 83.3144%\n",
            "[info] processed 86.1689%\n",
            "[info] processed 87.5265%\n",
            "[info] processed 90.8772%\n",
            "[info] processed 94.6782%\n",
            "[info] processed 97.9386%\n",
            "[info] processed 99.9155%\n",
            "[info] generating keys\n",
            "[info] ngrams1: 615465\n",
            "[info] ngrams2: 9788693\n",
            "[info] ngrams3: 27806369\n",
            "[info] total: 38210527\n",
            "[info] generating perf hash\n",
            "[info] finished, buckets: 47763197\n",
            "[info] buckets filled\n"
          ]
        }
      ],
      "source": [
        "!./main/jamspell train /content/JamSpell/alphabet/en_ascii.txt /content/JamSpell_dataset/eng.txt en_model.bin"
      ]
    },
    {
      "cell_type": "markdown",
      "source": [
        "##Load for first time\n",
        "It can take some time to generate bin.spell file, once it is generated, model will load very fast"
      ],
      "metadata": {
        "id": "NdtqeNIvJEbk"
      }
    },
    {
      "cell_type": "code",
      "execution_count": 5,
      "metadata": {
        "id": "Dq8TsrNvWPx-",
        "colab": {
          "base_uri": "https://localhost:8080/"
        },
        "outputId": "89981a72-435f-4477-9c45-d685310437cb"
      },
      "outputs": [
        {
          "output_type": "stream",
          "name": "stdout",
          "text": [
            "Reading package lists... Done\n",
            "Building dependency tree... Done\n",
            "Reading state information... Done\n",
            "Suggested packages:\n",
            "  swig3.0-examples swig3.0-doc\n",
            "The following NEW packages will be installed:\n",
            "  swig3.0\n",
            "0 upgraded, 1 newly installed, 0 to remove and 18 not upgraded.\n",
            "Need to get 1,109 kB of archives.\n",
            "After this operation, 5,555 kB of additional disk space will be used.\n",
            "Get:1 http://archive.ubuntu.com/ubuntu jammy/universe amd64 swig3.0 amd64 3.0.12-2.2ubuntu1 [1,109 kB]\n",
            "Fetched 1,109 kB in 0s (8,131 kB/s)\n",
            "debconf: unable to initialize frontend: Dialog\n",
            "debconf: (No usable dialog-like program is installed, so the dialog based frontend cannot be used. at /usr/share/perl5/Debconf/FrontEnd/Dialog.pm line 78, <> line 1.)\n",
            "debconf: falling back to frontend: Readline\n",
            "debconf: unable to initialize frontend: Readline\n",
            "debconf: (This frontend requires a controlling tty.)\n",
            "debconf: falling back to frontend: Teletype\n",
            "dpkg-preconfigure: unable to re-open stdin: \n",
            "Selecting previously unselected package swig3.0.\n",
            "(Reading database ... 120875 files and directories currently installed.)\n",
            "Preparing to unpack .../swig3.0_3.0.12-2.2ubuntu1_amd64.deb ...\n",
            "Unpacking swig3.0 (3.0.12-2.2ubuntu1) ...\n",
            "Setting up swig3.0 (3.0.12-2.2ubuntu1) ...\n",
            "Processing triggers for man-db (2.10.2-1) ...\n"
          ]
        }
      ],
      "source": [
        "!sudo apt-get install swig3.0"
      ]
    },
    {
      "cell_type": "code",
      "execution_count": 6,
      "metadata": {
        "colab": {
          "base_uri": "https://localhost:8080/"
        },
        "id": "NO7lSvX4V4CG",
        "outputId": "035bac65-8832-4ca8-beee-2c213065f075"
      },
      "outputs": [
        {
          "output_type": "stream",
          "name": "stdout",
          "text": [
            "Collecting jamspell\n",
            "  Downloading jamspell-0.0.12.tar.gz (174 kB)\n",
            "\u001b[?25l     \u001b[90m━━━━━━━━━━━━━━━━━━━━━━━━━━━━━━━━━━━━━━━━\u001b[0m \u001b[32m0.0/174.3 kB\u001b[0m \u001b[31m?\u001b[0m eta \u001b[36m-:--:--\u001b[0m\r\u001b[2K     \u001b[90m━━━━━━━━━━━━━━━━━━━━━━━━━━━━━━━━━━━━━━━\u001b[0m \u001b[32m174.3/174.3 kB\u001b[0m \u001b[31m5.9 MB/s\u001b[0m eta \u001b[36m0:00:00\u001b[0m\n",
            "\u001b[?25h  Preparing metadata (setup.py) ... \u001b[?25l\u001b[?25hdone\n",
            "Building wheels for collected packages: jamspell\n",
            "  Building wheel for jamspell (setup.py) ... \u001b[?25l\u001b[?25hdone\n",
            "  Created wheel for jamspell: filename=jamspell-0.0.12-cp310-cp310-linux_x86_64.whl size=1782250 sha256=c489e1e3438f6fe66683ea6ce95d30b1496906ffb46cf6e83a7db80386082c73\n",
            "  Stored in directory: /root/.cache/pip/wheels/95/af/d3/fb57122fda2851ad5972ce80640001c568dcffdf16bc9ddb17\n",
            "Successfully built jamspell\n",
            "Installing collected packages: jamspell\n",
            "Successfully installed jamspell-0.0.12\n"
          ]
        }
      ],
      "source": [
        "!sudo pip install jamspell"
      ]
    },
    {
      "cell_type": "code",
      "execution_count": 7,
      "metadata": {
        "id": "Jjte6ndwV8n5"
      },
      "outputs": [],
      "source": [
        "import jamspell"
      ]
    },
    {
      "cell_type": "code",
      "execution_count": 9,
      "metadata": {
        "colab": {
          "base_uri": "https://localhost:8080/"
        },
        "id": "bT_kkJKRYRDP",
        "outputId": "07e3d746-62c4-4f8e-c6f3-09fa393282ae"
      },
      "outputs": [
        {
          "output_type": "stream",
          "name": "stdout",
          "text": [
            "I'm so tired after a long day at work, I need to get some sleep.\n"
          ]
        }
      ],
      "source": [
        "jsp = jamspell.TSpellCorrector()\n",
        "jsp.LoadLangModel('en_model.bin')\n",
        "str_txt = jsp.FixFragment(\"I'm so tierd after ta lvng day at wonk, I newed to get som sleeep.\")\n",
        "\n",
        "print(str_txt)"
      ]
    },
    {
      "cell_type": "markdown",
      "metadata": {
        "id": "sOotPBwCBDxm"
      },
      "source": [
        "# Post processing and tests\n",
        "Correct upper-lower letters if it is nessesary"
      ]
    },
    {
      "cell_type": "code",
      "execution_count": 11,
      "metadata": {
        "id": "_L55rb4SVO0c",
        "colab": {
          "base_uri": "https://localhost:8080/"
        },
        "outputId": "b0eb4557-d4fa-40d8-8219-2cedf9e72610"
      },
      "outputs": [
        {
          "output_type": "stream",
          "name": "stdout",
          "text": [
            "Collecting autocorrect\n",
            "  Downloading autocorrect-2.6.1.tar.gz (622 kB)\n",
            "\u001b[?25l     \u001b[90m━━━━━━━━━━━━━━━━━━━━━━━━━━━━━━━━━━━━━━━━\u001b[0m \u001b[32m0.0/622.8 kB\u001b[0m \u001b[31m?\u001b[0m eta \u001b[36m-:--:--\u001b[0m\r\u001b[2K     \u001b[91m━━━━━━━━━━━━━━━━━━━━━━━━\u001b[0m\u001b[90m╺\u001b[0m\u001b[90m━━━━━━━━━━━━━\u001b[0m \u001b[32m399.4/622.8 kB\u001b[0m \u001b[31m11.8 MB/s\u001b[0m eta \u001b[36m0:00:01\u001b[0m\r\u001b[2K     \u001b[90m━━━━━━━━━━━━━━━━━━━━━━━━━━━━━━━━━━━━━━\u001b[0m \u001b[32m622.8/622.8 kB\u001b[0m \u001b[31m11.5 MB/s\u001b[0m eta \u001b[36m0:00:00\u001b[0m\n",
            "\u001b[?25h  Preparing metadata (setup.py) ... \u001b[?25l\u001b[?25hdone\n",
            "Building wheels for collected packages: autocorrect\n",
            "  Building wheel for autocorrect (setup.py) ... \u001b[?25l\u001b[?25hdone\n",
            "  Created wheel for autocorrect: filename=autocorrect-2.6.1-py3-none-any.whl size=622363 sha256=ab41db0e62698b5730e90286602335bd22ce61a82ca2001240fdb5ef50d551e1\n",
            "  Stored in directory: /root/.cache/pip/wheels/b5/7b/6d/b76b29ce11ff8e2521c8c7dd0e5bfee4fb1789d76193124343\n",
            "Successfully built autocorrect\n",
            "Installing collected packages: autocorrect\n",
            "Successfully installed autocorrect-2.6.1\n",
            "Collecting pyspellchecker\n",
            "  Downloading pyspellchecker-0.7.2-py3-none-any.whl (3.4 MB)\n",
            "\u001b[2K     \u001b[90m━━━━━━━━━━━━━━━━━━━━━━━━━━━━━━━━━━━━━━━━\u001b[0m \u001b[32m3.4/3.4 MB\u001b[0m \u001b[31m43.9 MB/s\u001b[0m eta \u001b[36m0:00:00\u001b[0m\n",
            "\u001b[?25hInstalling collected packages: pyspellchecker\n",
            "Successfully installed pyspellchecker-0.7.2\n"
          ]
        }
      ],
      "source": [
        "!sudo pip install  autocorrect\n",
        "!sudo pip install pyspellchecker"
      ]
    },
    {
      "cell_type": "code",
      "execution_count": 13,
      "metadata": {
        "colab": {
          "base_uri": "https://localhost:8080/"
        },
        "id": "e4cOLADvAr-n",
        "outputId": "7fb02cea-1b73-4076-81fc-c4fa0d5b59c5"
      },
      "outputs": [
        {
          "output_type": "stream",
          "name": "stdout",
          "text": [
            "Y~u crn gen35ate ext^nsions for other langu#ges !\n",
            "I'm so tired a&ter a |on May at work: [need to get some s,eep.\n",
            "Y/u crn gen//ate ext/nsions for other langu/ges !\n",
            "I'm so tirel a/ter a /ong Tay at work/ /need to get some s/eep.\n",
            "YOu can genERate extEnsions for other languAges !\n",
            "I'm so tired aFter a Long Day at work Need to get some sLeep.\n",
            "You can generate extensions for other languages !\n",
            "I'm so tired after a Long Day at work Need to get some sleep.\n",
            "jamspell обработал за :  6.290674209594727 ms\n"
          ]
        }
      ],
      "source": [
        "import jamspell\n",
        "import time\n",
        "from autocorrect import Speller\n",
        "spell = Speller(lang='en')\n",
        "\n",
        "jsp = jamspell.TSpellCorrector()\n",
        "jsp.LoadLangModel('en_model.bin')\n",
        "\n",
        "good_symbols_en = \" abcdefghijklmnopqrstuvwxyz!,.0123456789?'ABCDEFGHIJKLMNOPQRSTUVWXYZ\"\n",
        "bad_mid_symbols_en = \"!,.0123456789?%:;+=-()/?[]\\|\"\n",
        "bad_start_symbols_en = \"!,.0123456789?%:;+=-()/?[]\\|\"\n",
        "bad_end_symbols_en = \"!,.0123456789?%:;+=-()/?[]\\|\"\n",
        "num_symbols = \"0123456789\"\n",
        "letters_symbols_en = \"abcdefghijklmnopqrstuvwxyzABCDEFGHIJKLMNOPQRSTUVWXYZ\"\n",
        "extra_symbols_en = \"'\"\n",
        "\n",
        "str1='Y~u crn gen35ate ext^nsions for other langu#ges !'\n",
        "str2=\"I'm so tirel a&ter a |ong Tay at work: [need to get some s,eep.\"\n",
        "str_txt1 = jsp.FixFragment(str1)\n",
        "str_txt2 = jsp.FixFragment(str2)\n",
        "print(str_txt1)\n",
        "print(str_txt2)\n",
        "start = time.time()\n",
        "list_str1=list(str1)\n",
        "list_str2=list(str2)\n",
        "\n",
        "for i in range(0, len(list_str1)-1):\n",
        "  if list_str1[i] not in good_symbols_en:\n",
        "    list_str1[i]='/'\n",
        "  if list_str1[i] in num_symbols:\n",
        "    if i>=1 and i<len(list_str1):\n",
        "      if (list_str1[i-1] in letters_symbols_en) or (list_str1[i+1] in letters_symbols_en):\n",
        "        list_str1[i]='/'\n",
        "  if list_str1[i] in bad_mid_symbols_en:\n",
        "    if i>=1 and i<len(list_str1):\n",
        "      if (list_str1[i-1] != ' ') or (list_str1[i+1] != ' '):\n",
        "        list_str1[i]='/'\n",
        "\n",
        "for i in range(0, len(list_str2)-1):\n",
        "  if list_str2[i] not in good_symbols_en:\n",
        "    list_str2[i]='/'\n",
        "  if list_str2[i] in num_symbols:\n",
        "    if i>=1 and i<len(list_str2):\n",
        "      if (list_str2[i-1] in letters_symbols_en) or (list_str2[i+1] in letters_symbols_en):\n",
        "        list_str2[i]='/'\n",
        "  if list_str2[i] in bad_mid_symbols_en:\n",
        "    if i>=1 and i<len(list_str2):\n",
        "      if not ((list_str2[i-1] == ' ') and (list_str2[i+1] == ' ')):\n",
        "        list_str2[i]='/'\n",
        "\n",
        "\n",
        "new_str1=''.join(list_str1)\n",
        "new_str2=''.join(list_str2)\n",
        "str_test3=new_str2\n",
        "\n",
        "print(new_str1)\n",
        "print(new_str2)\n",
        "\n",
        "str_txt1 = jsp.FixFragment(new_str1)\n",
        "str_txt2 = jsp.FixFragment(new_str2)\n",
        "print(str_txt1)\n",
        "print(str_txt2)\n",
        "\n",
        "new_txt1=''\n",
        "isNewW=True\n",
        "isFirstUpper=False\n",
        "for i in str_txt1:\n",
        "  if(isNewW):\n",
        "    isFirstUpper=i.isupper()\n",
        "    isNewW=False\n",
        "  elif (i.isupper() and (not isNewW) and (not isFirstUpper)):\n",
        "    i=i.lower()\n",
        "  if(i==' '):\n",
        "    isNewW=True\n",
        "  new_txt1+=i\n",
        "\n",
        "new_txt2=''\n",
        "isNewW=True\n",
        "isFirstUpper=False\n",
        "for i in str_txt2:\n",
        "  if(isNewW):\n",
        "    isFirstUpper=i.isupper()\n",
        "    isNewW=False\n",
        "  elif (i.isupper() and (not isNewW) and (not isFirstUpper)):\n",
        "    i=i.lower()\n",
        "  if(i==' '):\n",
        "    isNewW=True\n",
        "  new_txt2+=i\n",
        "\n",
        "str_txt1=new_txt1\n",
        "str_txt2=new_txt2\n",
        "\n",
        "print(spell(new_txt1))\n",
        "print(spell(new_txt2))\n",
        "\n",
        "end = time.time()\n",
        "print(\"jamspell обработал за : \",\n",
        "      (end-start) * 10**3, \"ms\")"
      ]
    },
    {
      "cell_type": "markdown",
      "metadata": {
        "id": "64NRTvrHKU5-"
      },
      "source": [
        "If you want to correct most wrong uppercases just try this:"
      ]
    },
    {
      "cell_type": "markdown",
      "metadata": {
        "id": "dp6eIOsHLc6b"
      },
      "source": [
        "Also test out how autocorrect works alone:"
      ]
    },
    {
      "cell_type": "code",
      "execution_count": null,
      "metadata": {
        "colab": {
          "base_uri": "https://localhost:8080/",
          "height": 36
        },
        "id": "JTNNhaHqLcD1",
        "outputId": "602832bc-c517-4ab2-b9e5-b60d466a1eb0"
      },
      "outputs": [
        {
          "data": {
            "application/vnd.google.colaboratory.intrinsic+json": {
              "type": "string"
            },
            "text/plain": [
              "'Y~u can gen35ate ext^signs for other lang#ges !'"
            ]
          },
          "execution_count": 49,
          "metadata": {},
          "output_type": "execute_result"
        }
      ],
      "source": [
        "spell('Y~u crn gen35ate ext^nsions for other langu#ges !')"
      ]
    },
    {
      "cell_type": "code",
      "execution_count": null,
      "metadata": {
        "colab": {
          "base_uri": "https://localhost:8080/"
        },
        "id": "Bvn4OyzpPQzU",
        "outputId": "dbbad2ae-44eb-48a4-d87e-d808ad84dc33"
      },
      "outputs": [
        {
          "name": "stdout",
          "output_type": "stream",
          "text": [
            "I'm so tirel a.ter a .ong Tay at work. .need to get some s.eep.\n",
            "None\n",
            "pyspellchecker обработал за :  282.06467628479004 ms\n"
          ]
        }
      ],
      "source": [
        "import re\n",
        "from spellchecker import SpellChecker\n",
        "english = SpellChecker(language='en')\n",
        "print(str_test3)\n",
        "words=re.findall(r\"[\\w']+|[.,!?;]\", \"str_test3\")\n",
        "#words = new_txt2.split()\n",
        "start = time.time()\n",
        "misspelled=['Y~u', 'crn', 'gen35ate', 'ext^nsions', 'for', 'other', 'langu#ges', '!']\n",
        "for word in words:\n",
        "    # Get the one `most likely` answer\n",
        "    print(english.correction(word))\n",
        "end = time.time()\n",
        "print(\"pyspellchecker обработал за : \",\n",
        "      (end-start) * 10**3, \"ms\")"
      ]
    },
    {
      "cell_type": "code",
      "execution_count": null,
      "metadata": {
        "colab": {
          "base_uri": "https://localhost:8080/"
        },
        "id": "OdAHlwABQV6S",
        "outputId": "b594a1cd-bae6-4650-d9ab-313e8b135e70"
      },
      "outputs": [
        {
          "name": "stdout",
          "output_type": "stream",
          "text": [
            "YOu can generate extensions for other languages !\n",
            "You can generate extensions for other languages !\n",
            "jamspell обработал за :  91.1245346069336 ms\n"
          ]
        }
      ],
      "source": [
        "import jamspell\n",
        "jsp = jamspell.TSpellCorrector()\n",
        "assert jsp.LoadLangModel('/content/big_model2_eng.bin')\n",
        "str_txt = jsp.FixFragment('Y~u crn gen35ate ext^nsions for other langu#ges !')\n",
        "# u'I am the best spell checker!'\n",
        "start = time.time()\n",
        "new_txt=''\n",
        "isNewW=True\n",
        "isFirstUpper=False\n",
        "for i in str_txt:\n",
        "  if(isNewW):\n",
        "    isFirstUpper=i.isupper()\n",
        "    isNewW=False\n",
        "  elif (i.isupper() and (not isNewW) and (not isFirstUpper)):\n",
        "    i=i.lower()\n",
        "  if(i==' '):\n",
        "    isNewW=True\n",
        "  new_txt+=i\n",
        "print(new_txt)\n",
        "from autocorrect import Speller\n",
        "spell = Speller(lang='en')\n",
        "print(spell(new_txt))\n",
        "end = time.time()\n",
        "print(\"jamspell обработал за : \",\n",
        "      (end-start) * 10**3, \"ms\")"
      ]
    },
    {
      "cell_type": "code",
      "execution_count": null,
      "metadata": {
        "colab": {
          "base_uri": "https://localhost:8080/"
        },
        "id": "NKfgTDfplfy5",
        "outputId": "8f443b63-db89-40b2-8fc7-2af64439277a"
      },
      "outputs": [
        {
          "name": "stdout",
          "output_type": "stream",
          "text": [
            "'\\x00\\x01\\x02\\x03\\x04\\x05\\x06\\x07\\x08\\t\\n\\x0b\\x0c\\r\\x0e\\x0f\\x10\\x11\\x12\\x13\\x14\\x15\\x16\\x17\\x18\\x19\\x1a\\x1b\\x1c\\x1d\\x1e\\x1f !\"#$%&\\'()*+,-./0123456789:;<=>?@ABCDEFGHIJKLMNOPQRSTUVWXYZ[\\\\]^_`abcdefghijklmnopqrstuvwxyz{|}~\\x7f\\x80\\x81\\x82\\x83\\x84\\x85\\x86\\x87\\x88\\x89\\x8a\\x8b\\x8c\\x8d\\x8e\\x8f\\x90\\x91\\x92\\x93\\x94\\x95\\x96\\x97\\x98\\x99\\x9a\\x9b\\x9c\\x9d\\x9e\\x9f\\xa0\\xa1\\xa2\\xa3\\xa4\\xa5\\xa6\\xa7\\xa8\\xa9\\xaa\\xab\\xac\\xad\\xae\\xaf\\xb0\\xb1\\xb2\\xb3\\xb4\\xb5\\xb6\\xb7\\xb8\\xb9\\xba\\xbb\\xbc\\xbd\\xbe\\xbf\\xc0\\xc1\\xc2\\xc3\\xc4\\xc5\\xc6\\xc7\\xc8\\xc9\\xca\\xcb\\xcc\\xcd\\xce\\xcf\\xd0\\xd1\\xd2\\xd3\\xd4\\xd5\\xd6\\xd7\\xd8\\xd9\\xda\\xdb\\xdc\\xdd\\xde\\xdf\\xe0\\xe1\\xe2\\xe3\\xe4\\xe5\\xe6\\xe7\\xe8\\xe9\\xea\\xeb\\xec\\xed\\xee\\xef\\xf0\\xf1\\xf2\\xf3\\xf4\\xf5\\xf6\\xf7\\xf8\\xf9\\xfa\\xfb\\xfc\\xfd\\xfe'\n"
          ]
        }
      ],
      "source": [
        "import sys\n",
        "#os.environ[\"PYTHONIOENCODING\"] = \"Win-1251\"\n",
        "\n",
        "str_alp=''\n",
        "for i in range(0, 255, 1):\n",
        "  str_alp+=(chr(i))\n",
        "print(ascii(str_alp))"
      ]
    },
    {
      "cell_type": "code",
      "execution_count": 69,
      "metadata": {
        "id": "jGj6GG4EnFAK"
      },
      "outputs": [],
      "source": []
    },
    {
      "cell_type": "markdown",
      "source": [
        "#Generate noise\n"
      ],
      "metadata": {
        "id": "52em9DriPxTF"
      }
    },
    {
      "cell_type": "code",
      "source": [
        "! pip install bitarray"
      ],
      "metadata": {
        "colab": {
          "base_uri": "https://localhost:8080/"
        },
        "id": "JDltOy06mNUh",
        "outputId": "1dbd7bc1-c9db-41b4-9890-49a2b3d0d200"
      },
      "execution_count": 70,
      "outputs": [
        {
          "output_type": "stream",
          "name": "stdout",
          "text": [
            "Collecting bitarray\n",
            "  Downloading bitarray-2.8.2-cp310-cp310-manylinux_2_17_x86_64.manylinux2014_x86_64.whl (286 kB)\n",
            "\u001b[?25l     \u001b[90m━━━━━━━━━━━━━━━━━━━━━━━━━━━━━━━━━━━━━━━━\u001b[0m \u001b[32m0.0/286.5 kB\u001b[0m \u001b[31m?\u001b[0m eta \u001b[36m-:--:--\u001b[0m\r\u001b[2K     \u001b[91m━━━━━━━━━━━━━━━━━━━━━━━━━━━━━━━━━━━━━\u001b[0m\u001b[91m╸\u001b[0m\u001b[90m━\u001b[0m \u001b[32m276.5/286.5 kB\u001b[0m \u001b[31m9.0 MB/s\u001b[0m eta \u001b[36m0:00:01\u001b[0m\r\u001b[2K     \u001b[90m━━━━━━━━━━━━━━━━━━━━━━━━━━━━━━━━━━━━━━━\u001b[0m \u001b[32m286.5/286.5 kB\u001b[0m \u001b[31m7.1 MB/s\u001b[0m eta \u001b[36m0:00:00\u001b[0m\n",
            "\u001b[?25hInstalling collected packages: bitarray\n",
            "Successfully installed bitarray-2.8.2\n"
          ]
        }
      ]
    },
    {
      "cell_type": "code",
      "source": [
        "import os\n",
        "import random\n",
        "import binascii\n",
        "from bitarray import bitarray\n",
        "\n",
        "err_percent = 12\n",
        "start_txt = \"I'm so tired after a long day at work. \\nI need to get some sleep.\"\n",
        "space_count=start_txt.count(' ')\n",
        "print(space_count)\n",
        "out_txt=''\n",
        "out_txt+=chr(space_count)\n",
        "out_txt+=chr(space_count)\n",
        "out_txt+=chr(space_count)\n",
        "curr_pos=0\n",
        "for i in start_txt:\n",
        "  if(i==' '):\n",
        "    print(curr_pos)\n",
        "    out_txt+=chr(curr_pos)\n",
        "    out_txt+=chr(curr_pos)\n",
        "    out_txt+=chr(curr_pos)\n",
        "  curr_pos+=1\n",
        "print(out_txt)\n",
        "if os.path.exists('/content/spaces.txt') != 0:\n",
        "  os.remove(\"/content/spaces.txt\")\n",
        "f = open('/content/spaces.txt','w')\n",
        "f.write(out_txt)\n",
        "f.close()\n",
        "\n",
        "def set_bit(v, index, x):\n",
        "  \"\"\"Set the index:th bit of v to 1 if x is truthy, else to 0, and return the new value.\"\"\"\n",
        "  mask = 1 << index   # Compute mask, an integer with just bit 'index' set.\n",
        "  v &= ~mask          # Clear the bit indicated by the mask (if x is False)\n",
        "  if x:\n",
        "    v |= mask         # If x was True, set the bit indicated by the mask.\n",
        "  return v            # Return the result, we're done.\n",
        "def to_bin_s(a):\n",
        "    c =' '.join(['0'*(8-len(bin(ord(i))[2:]))+(bin(ord(i))[2:]) for i in a])\n",
        "    return c\n",
        "\n",
        "def bits(ch_in, pos):\n",
        "  in_byte=to_bin_s(ch_in)\n",
        "  print(in_byte)\n",
        "  return (in_byte[pos]=='1')\n",
        "\n",
        "recieved_str=''\n",
        "for i in start_txt:\n",
        "  print(bin(ord(i))[2:].zfill(8))\n",
        "  bts = bitarray(bin(ord(i))[2:].zfill(8))\n",
        "  print(bts.tobytes().decode('ascii'))\n",
        "print('Out:')\n",
        "for i in start_txt:\n",
        "  out_char=(bin(ord(i))[2:].zfill(8))\n",
        "  str_bin_ch=''\n",
        "  for j in range(0, 8):\n",
        "    bad_symbol=(random.randint(0, 1000)<=err_percent)\n",
        "    if(bad_symbol):\n",
        "      str_bin_ch+='1'\n",
        "      print('bad!')\n",
        "    else:\n",
        "      str_bin_ch+=out_char[j]\n",
        "      #set_bit(out_char, j, 0)\n",
        "  bts = bitarray(str_bin_ch)\n",
        "  recieved_str+=bts.tobytes().decode('ascii')\n",
        "  print(str_bin_ch)\n",
        "  print(recieved_str)\n",
        "\n",
        "print(recieved_str)\n",
        "if os.path.exists('/content/recieved_str.txt') != 0:\n",
        "  os.remove(\"/content/recieved_str.txt\")\n",
        "f = open('/content/recieved_str','w')\n",
        "f.write(recieved_str)\n",
        "f.close()"
      ],
      "metadata": {
        "colab": {
          "base_uri": "https://localhost:8080/"
        },
        "id": "o7fe8nbCP1CH",
        "outputId": "11fcb494-2bb3-4155-ea62-969b73fb03d9"
      },
      "execution_count": 117,
      "outputs": [
        {
          "output_type": "stream",
          "name": "stdout",
          "text": [
            "14\n",
            "3\n",
            "6\n",
            "12\n",
            "18\n",
            "20\n",
            "25\n",
            "29\n",
            "32\n",
            "38\n",
            "41\n",
            "46\n",
            "49\n",
            "53\n",
            "58\n",
            "\u000e\u000e\u000e\u0003\u0003\u0003\u0006\u0006\u0006\f\f\f\u0012\u0012\u0012\u0014\u0014\u0014\u0019\u0019\u0019\u001d\u001d\u001d   &&&)))...111555:::\n",
            "01001001\n",
            "I\n",
            "00100111\n",
            "'\n",
            "01101101\n",
            "m\n",
            "00100000\n",
            " \n",
            "01110011\n",
            "s\n",
            "01101111\n",
            "o\n",
            "00100000\n",
            " \n",
            "01110100\n",
            "t\n",
            "01101001\n",
            "i\n",
            "01110010\n",
            "r\n",
            "01100101\n",
            "e\n",
            "01100100\n",
            "d\n",
            "00100000\n",
            " \n",
            "01100001\n",
            "a\n",
            "01100110\n",
            "f\n",
            "01110100\n",
            "t\n",
            "01100101\n",
            "e\n",
            "01110010\n",
            "r\n",
            "00100000\n",
            " \n",
            "01100001\n",
            "a\n",
            "00100000\n",
            " \n",
            "01101100\n",
            "l\n",
            "01101111\n",
            "o\n",
            "01101110\n",
            "n\n",
            "01100111\n",
            "g\n",
            "00100000\n",
            " \n",
            "01100100\n",
            "d\n",
            "01100001\n",
            "a\n",
            "01111001\n",
            "y\n",
            "00100000\n",
            " \n",
            "01100001\n",
            "a\n",
            "01110100\n",
            "t\n",
            "00100000\n",
            " \n",
            "01110111\n",
            "w\n",
            "01101111\n",
            "o\n",
            "01110010\n",
            "r\n",
            "01101011\n",
            "k\n",
            "00101110\n",
            ".\n",
            "00100000\n",
            " \n",
            "00001010\n",
            "\n",
            "\n",
            "01001001\n",
            "I\n",
            "00100000\n",
            " \n",
            "01101110\n",
            "n\n",
            "01100101\n",
            "e\n",
            "01100101\n",
            "e\n",
            "01100100\n",
            "d\n",
            "00100000\n",
            " \n",
            "01110100\n",
            "t\n",
            "01101111\n",
            "o\n",
            "00100000\n",
            " \n",
            "01100111\n",
            "g\n",
            "01100101\n",
            "e\n",
            "01110100\n",
            "t\n",
            "00100000\n",
            " \n",
            "01110011\n",
            "s\n",
            "01101111\n",
            "o\n",
            "01101101\n",
            "m\n",
            "01100101\n",
            "e\n",
            "00100000\n",
            " \n",
            "01110011\n",
            "s\n",
            "01101100\n",
            "l\n",
            "01100101\n",
            "e\n",
            "01100101\n",
            "e\n",
            "01110000\n",
            "p\n",
            "00101110\n",
            ".\n",
            "Out:\n",
            "01001001\n",
            "I\n",
            "00100111\n",
            "I'\n",
            "01101101\n",
            "I'm\n",
            "00100000\n",
            "I'm \n",
            "01110011\n",
            "I'm s\n",
            "01101111\n",
            "I'm so\n",
            "00100000\n",
            "I'm so \n",
            "01110100\n",
            "I'm so t\n",
            "01101001\n",
            "I'm so ti\n",
            "01110010\n",
            "I'm so tir\n",
            "01100101\n",
            "I'm so tire\n",
            "01100100\n",
            "I'm so tired\n",
            "bad!\n",
            "00101000\n",
            "I'm so tired(\n",
            "01100001\n",
            "I'm so tired(a\n",
            "01100110\n",
            "I'm so tired(af\n",
            "01110100\n",
            "I'm so tired(aft\n",
            "01100101\n",
            "I'm so tired(afte\n",
            "01110010\n",
            "I'm so tired(after\n",
            "00100000\n",
            "I'm so tired(after \n",
            "01100001\n",
            "I'm so tired(after a\n",
            "00100000\n",
            "I'm so tired(after a \n",
            "01101100\n",
            "I'm so tired(after a l\n",
            "01101111\n",
            "I'm so tired(after a lo\n",
            "01101110\n",
            "I'm so tired(after a lon\n",
            "bad!\n",
            "01100111\n",
            "I'm so tired(after a long\n",
            "00100000\n",
            "I'm so tired(after a long \n",
            "01100100\n",
            "I'm so tired(after a long d\n",
            "01100001\n",
            "I'm so tired(after a long da\n",
            "01111001\n",
            "I'm so tired(after a long day\n",
            "bad!\n",
            "00100001\n",
            "I'm so tired(after a long day!\n",
            "01100001\n",
            "I'm so tired(after a long day!a\n",
            "01110100\n",
            "I'm so tired(after a long day!at\n",
            "00100000\n",
            "I'm so tired(after a long day!at \n",
            "01110111\n",
            "I'm so tired(after a long day!at w\n",
            "bad!\n",
            "01111111\n",
            "I'm so tired(after a long day!at w\n",
            "01110010\n",
            "I'm so tired(after a long day!at wr\n",
            "bad!\n",
            "01101111\n",
            "I'm so tired(after a long day!at wro\n",
            "00101110\n",
            "I'm so tired(after a long day!at wro.\n",
            "00100000\n",
            "I'm so tired(after a long day!at wro. \n",
            "00001010\n",
            "I'm so tired(after a long day!at wro. \n",
            "\n",
            "01001001\n",
            "I'm so tired(after a long day!at wro. \n",
            "I\n",
            "00100000\n",
            "I'm so tired(after a long day!at wro. \n",
            "I \n",
            "01101110\n",
            "I'm so tired(after a long day!at wro. \n",
            "I n\n",
            "01100101\n",
            "I'm so tired(after a long day!at wro. \n",
            "I ne\n",
            "01100101\n",
            "I'm so tired(after a long day!at wro. \n",
            "I nee\n",
            "01100100\n",
            "I'm so tired(after a long day!at wro. \n",
            "I need\n",
            "bad!\n",
            "00100010\n",
            "I'm so tired(after a long day!at wro. \n",
            "I need\"\n",
            "01110100\n",
            "I'm so tired(after a long day!at wro. \n",
            "I need\"t\n",
            "01101111\n",
            "I'm so tired(after a long day!at wro. \n",
            "I need\"to\n",
            "00100000\n",
            "I'm so tired(after a long day!at wro. \n",
            "I need\"to \n",
            "01100111\n",
            "I'm so tired(after a long day!at wro. \n",
            "I need\"to g\n",
            "01100101\n",
            "I'm so tired(after a long day!at wro. \n",
            "I need\"to ge\n",
            "01110100\n",
            "I'm so tired(after a long day!at wro. \n",
            "I need\"to get\n",
            "00100000\n",
            "I'm so tired(after a long day!at wro. \n",
            "I need\"to get \n",
            "01110011\n",
            "I'm so tired(after a long day!at wro. \n",
            "I need\"to get s\n",
            "01101111\n",
            "I'm so tired(after a long day!at wro. \n",
            "I need\"to get so\n",
            "01101101\n",
            "I'm so tired(after a long day!at wro. \n",
            "I need\"to get som\n",
            "01100101\n",
            "I'm so tired(after a long day!at wro. \n",
            "I need\"to get some\n",
            "00100000\n",
            "I'm so tired(after a long day!at wro. \n",
            "I need\"to get some \n",
            "bad!\n",
            "01110111\n",
            "I'm so tired(after a long day!at wro. \n",
            "I need\"to get some w\n",
            "01101100\n",
            "I'm so tired(after a long day!at wro. \n",
            "I need\"to get some wl\n",
            "01100101\n",
            "I'm so tired(after a long day!at wro. \n",
            "I need\"to get some wle\n",
            "01100101\n",
            "I'm so tired(after a long day!at wro. \n",
            "I need\"to get some wlee\n",
            "01110000\n",
            "I'm so tired(after a long day!at wro. \n",
            "I need\"to get some wleep\n",
            "00101110\n",
            "I'm so tired(after a long day!at wro. \n",
            "I need\"to get some wleep.\n",
            "I'm so tired(after a long day!at wro. \n",
            "I need\"to get some wleep.\n"
          ]
        }
      ]
    },
    {
      "cell_type": "markdown",
      "source": [
        "#Fix noise"
      ],
      "metadata": {
        "id": "E3TuS_DAqUL5"
      }
    },
    {
      "cell_type": "code",
      "source": [
        "import jamspell\n",
        "import time\n",
        "from autocorrect import Speller\n",
        "from collections import Counter\n",
        "from array import array\n",
        "\n",
        "spell = Speller(lang='en')\n",
        "jsp = jamspell.TSpellCorrector()\n",
        "jsp.LoadLangModel('en_model.bin')\n",
        "\n",
        "good_symbols_en = \" \\abcdefghijklmnopqrstuvwxyz!,.0123456789?'ABCDEFGHIJKLMNOPQRSTUVWXYZ\"\n",
        "bad_mid_symbols_en = \"!,.0123456789?%:;+=-()/?[]|\"\n",
        "bad_start_symbols_en = \"!,.0123456789?%:;+=-()/?[]|\"\n",
        "bad_end_symbols_en = \"!,.0123456789?%:;+=-()/?[]|\"\n",
        "num_symbols = \"0123456789\"\n",
        "letters_symbols_en = \"abcdefghijklmnopqrstuvwxyzABCDEFGHIJKLMNOPQRSTUVWXYZ\"\n",
        "extra_symbols_en = \"'\"\n",
        "\n",
        "f = open('/content/recieved_str','r')\n",
        "input_str = f.read()\n",
        "print(input_str)\n",
        "input_str=input_str.replace(\" \", \".\")\n",
        "\n",
        "f.close()\n",
        "\n",
        "f = open('/content/spaces.txt','r')\n",
        "input_spaces = f.read()\n",
        "f.close()\n",
        "\n",
        "print(jsp.FixFragment(input_str))\n",
        "\n",
        "#fix spaces:\n",
        "def most_comm(ch1, ch2, ch3):\n",
        "  str1=ch1+ch2+ch3\n",
        "  count = sorted([(str1.count(letter), letter) for letter in set(str1)], reverse=True)\n",
        "  return count[0][1]\n",
        "\n",
        "list_str1=list(input_str)\n",
        "num_spaces = ord(most_comm(input_spaces[0], input_spaces[1], input_spaces[2]))\n",
        "print(num_spaces)\n",
        "for i in range(1, num_spaces+1):\n",
        "  list_str1[ord(most_comm(input_spaces[i*3], input_spaces[i*3+1], input_spaces[i*3+2]))]=' '\n",
        "\n",
        "start = time.time()\n",
        "\n",
        "\n",
        "for i in range(0, len(list_str1)-1):\n",
        "  if list_str1[i] not in good_symbols_en:\n",
        "    list_str1[i]='/'\n",
        "  if list_str1[i] in num_symbols:\n",
        "    if i>=1 and i<len(list_str1):\n",
        "      if (list_str1[i-1] in letters_symbols_en) or (list_str1[i+1] in letters_symbols_en):\n",
        "        list_str1[i]='/'\n",
        "  if list_str1[i] in bad_mid_symbols_en:\n",
        "    if i>=1 and i<len(list_str1):\n",
        "      if (list_str1[i-1] != ' ') or (list_str1[i+1] != ' '):\n",
        "        list_str1[i]='/'\n",
        "\n",
        "new_str1=''.join(list_str1)\n",
        "\n",
        "print(new_str1)\n",
        "\n",
        "\n",
        "str_txt1 = jsp.FixFragment(new_str1)\n",
        "print(str_txt1)\n",
        "\n",
        "new_txt1=''\n",
        "isNewW=True\n",
        "isFirstUpper=False\n",
        "for i in str_txt1:\n",
        "  if(isNewW):\n",
        "    isFirstUpper=i.isupper()\n",
        "    isNewW=False\n",
        "  elif (i.isupper() and (not isNewW) and (not isFirstUpper)):\n",
        "    i=i.lower()\n",
        "  if(i==' '):\n",
        "    isNewW=True\n",
        "  new_txt1+=i\n",
        "\n",
        "str_txt1=new_txt1\n",
        "str_final = spell(new_txt1)\n",
        "print(str_final)\n",
        "\n",
        "end = time.time()\n",
        "print(\"jamspell обработал за : \",\n",
        "      (end-start) * 10**3, \"ms\")\n",
        "my_file = open(\"/content/output_text.txt\", \"w+\")\n",
        "my_file.write(str_final)\n",
        "my_file.close()"
      ],
      "metadata": {
        "colab": {
          "base_uri": "https://localhost:8080/"
        },
        "id": "wUUnGSG6qTtQ",
        "outputId": "b1386e81-d02c-4c4b-9bf9-e0b30144f98e"
      },
      "execution_count": 141,
      "outputs": [
        {
          "output_type": "stream",
          "name": "stdout",
          "text": [
            "I'm so tired(after a long day!at wro. \n",
            "I need\"to get some wleep.\n",
            "I'm.so.tired(after.a.long.day!at.wro..\n",
            "I.need\"to.get.some.sleep.\n",
            "14\n",
            "I'm so tired /fter / long d/y /t w/ro/ /I need to get some wleep.\n",
            "I'm so tired After A long dAy At wRotE I need to get some sleep.\n",
            "I'm so tired After A long day At wrote I need to get some sleep.\n",
            "jamspell обработал за :  18.291711807250977 ms\n"
          ]
        }
      ]
    }
  ],
  "metadata": {
    "colab": {
      "provenance": [],
      "mount_file_id": "1X-OCG1cDaLJ0MMNZHyiJ1Gk4mGcnpTTY",
      "authorship_tag": "ABX9TyNlfdkt0mBJAWc65AkueOCL",
      "include_colab_link": true
    },
    "kernelspec": {
      "display_name": "Python 3",
      "name": "python3"
    },
    "language_info": {
      "name": "python"
    }
  },
  "nbformat": 4,
  "nbformat_minor": 0
}